{
  "cells": [
    {
      "cell_type": "code",
      "execution_count": 1,
      "metadata": {},
      "outputs": [],
      "source": [
        "import numpy as np"
      ]
    },
    {
      "cell_type": "markdown",
      "metadata": {
        "id": "J88qfqQEk_sT"
      },
      "source": [
        "### `Q-1:` Create a random 3x4 matrix with value between 0-100. And perform below tasks\n",
        "\n",
        "    i. Sort this matrix. np.sort()\n",
        "    ii. Sort this matrix based on values in 2nd column.\n",
        "    iii. Sort this matrix based on max value in each row.\n",
        "    iv. Sort based on elements value.\n"
      ]
    },
    {
      "cell_type": "markdown",
      "metadata": {
        "id": "xpOwOdhqlE9R"
      },
      "source": [
        "See examples:\n",
        "```\n",
        "arr =\n",
        "    [[92 90 74]\n",
        "    [ 6 63 93]\n",
        "    [15 93 96]\n",
        "    [70 60 48]]\n",
        "```\n",
        "```\n",
        "i. np.sort\n",
        "[[74 90 92]\n",
        " [ 6 63 93]\n",
        " [15 93 96]\n",
        " [48 60 70]]\n",
        "\n",
        "ii. based on 2nd column\n",
        "[[70 60 48]\n",
        " [ 6 63 93]\n",
        " [92 90 74]\n",
        " [15 93 96]]\n",
        "\n",
        "iii. based on row max- ascending\n",
        "[[15 93 96]\n",
        " [ 6 63 93]\n",
        " [92 90 74]\n",
        " [70 60 48]]\n",
        "\n",
        "iv. based on elements value\n",
        "[[ 6 15 48]\n",
        " [60 63 70]\n",
        " [74 90 92]\n",
        " [93 93 96]]\n",
        "\n",
        "```"
      ]
    },
    {
      "cell_type": "code",
      "execution_count": 6,
      "metadata": {
        "id": "Auy-guUwlALv"
      },
      "outputs": [
        {
          "data": {
            "text/plain": [
              "array([[92, 90, 74],\n",
              "       [ 6, 63, 93],\n",
              "       [15, 93, 96],\n",
              "       [70, 60, 48]])"
            ]
          },
          "execution_count": 6,
          "metadata": {},
          "output_type": "execute_result"
        }
      ],
      "source": [
        "q1arr = np.array([  [92, 90, 74],\n",
        "                    [6, 63, 93],\n",
        "                    [15, 93, 96],\n",
        "                    [70, 60, 48]])\n",
        "q1arr"
      ]
    },
    {
      "cell_type": "code",
      "execution_count": 4,
      "metadata": {},
      "outputs": [
        {
          "data": {
            "text/plain": [
              "array([[74, 90, 92],\n",
              "       [ 6, 63, 93],\n",
              "       [15, 93, 96],\n",
              "       [48, 60, 70]])"
            ]
          },
          "execution_count": 4,
          "metadata": {},
          "output_type": "execute_result"
        }
      ],
      "source": [
        "np.sort(q1arr, axis=1)"
      ]
    },
    {
      "cell_type": "code",
      "execution_count": 9,
      "metadata": {},
      "outputs": [
        {
          "data": {
            "text/plain": [
              "array([[70, 60, 48],\n",
              "       [ 6, 63, 93],\n",
              "       [92, 90, 74],\n",
              "       [15, 93, 96]])"
            ]
          },
          "execution_count": 9,
          "metadata": {},
          "output_type": "execute_result"
        }
      ],
      "source": [
        "q1arr[q1arr[:,1].argsort()]"
      ]
    },
    {
      "cell_type": "code",
      "execution_count": null,
      "metadata": {},
      "outputs": [],
      "source": [
        "np.array(sorted(arr, key = lambda x: max(x)))"
      ]
    },
    {
      "cell_type": "code",
      "execution_count": 40,
      "metadata": {},
      "outputs": [
        {
          "data": {
            "text/plain": [
              "[array([70, 60, 48]),\n",
              " array([92, 90, 74]),\n",
              " array([ 6, 63, 93]),\n",
              " array([15, 93, 96])]"
            ]
          },
          "execution_count": 40,
          "metadata": {},
          "output_type": "execute_result"
        }
      ],
      "source": [
        "sorted(q1arr, key=lambda x: max(x))"
      ]
    },
    {
      "cell_type": "code",
      "execution_count": 11,
      "metadata": {},
      "outputs": [
        {
          "data": {
            "text/plain": [
              "array([[ 6, 15, 48],\n",
              "       [60, 63, 70],\n",
              "       [74, 90, 92],\n",
              "       [93, 93, 96]])"
            ]
          },
          "execution_count": 11,
          "metadata": {},
          "output_type": "execute_result"
        }
      ],
      "source": [
        "np.sort(q1arr, axis=None).reshape(4,3)"
      ]
    },
    {
      "cell_type": "markdown",
      "metadata": {
        "id": "Jx_I3gx9lBay"
      },
      "source": [
        "### `Q-2:` There is an array of marks of 5 students in 4 subjects. Further you are asked to perform below task.\n",
        "    i. Add marks every student of an extra subject in the same array.\n",
        "    ii. Add two new students marks in respective 5 subjects.(one subject added in above task)\n",
        "    iii. Add extra column with sum of all subjects(5-subjects) marks\n",
        "    iv. Sort the array(non-ascending order) on total marks column--one added in above task. Show top 2 rows.\n",
        "\n",
        "Note: Change dimension of arrays during concatenation or appending if required."
      ]
    },
    {
      "cell_type": "markdown",
      "metadata": {
        "id": "lXF-CE6ylNIw"
      },
      "source": [
        "Given Array-\n",
        "```\n",
        "marks = [[13, 10,  9, 33],\n",
        "       [63, 46, 90, 42],\n",
        "       [39, 76, 13, 29],\n",
        "       [82,  9, 29, 78],\n",
        "       [67, 61, 59, 36]]\n",
        "\n",
        "extra_subject = [41, 87, 72, 36, 92]\n",
        "#Two extra students record-\n",
        "rec1 = [77, 83, 98, 95, 89]\n",
        "rec2 = [92, 71, 52, 61, 53]\n",
        "```"
      ]
    },
    {
      "cell_type": "code",
      "execution_count": 46,
      "metadata": {
        "id": "7YKsWO2olMkq"
      },
      "outputs": [],
      "source": [
        "marks = np.array([   [13, 10,  9, 33],\n",
        "                     [63, 46, 90, 42],\n",
        "                     [39, 76, 13, 29],\n",
        "                     [82,  9, 29, 78],\n",
        "                     [67, 61, 59, 36]])\n",
        "\n",
        "extra_subject = np.array([41, 87, 72, 36, 92])\n",
        "#Two extra students record-\n",
        "rec1 = np.array([77, 83, 98, 95, 89])\n",
        "rec2 = np.array([92, 71, 52, 61, 53])"
      ]
    },
    {
      "cell_type": "code",
      "execution_count": 47,
      "metadata": {},
      "outputs": [
        {
          "data": {
            "text/plain": [
              "array([[41],\n",
              "       [87],\n",
              "       [72],\n",
              "       [36],\n",
              "       [92]])"
            ]
          },
          "execution_count": 47,
          "metadata": {},
          "output_type": "execute_result"
        }
      ],
      "source": [
        "extra_subject=np.expand_dims(extra_subject, axis=1)\n",
        "extra_subject"
      ]
    },
    {
      "cell_type": "code",
      "execution_count": 48,
      "metadata": {},
      "outputs": [
        {
          "data": {
            "text/plain": [
              "array([[13, 10,  9, 33, 41],\n",
              "       [63, 46, 90, 42, 87],\n",
              "       [39, 76, 13, 29, 72],\n",
              "       [82,  9, 29, 78, 36],\n",
              "       [67, 61, 59, 36, 92]])"
            ]
          },
          "metadata": {},
          "output_type": "display_data"
        }
      ],
      "source": [
        "marks=np.concatenate((marks,extra_subject), axis=1)\n",
        "display(marks)"
      ]
    },
    {
      "cell_type": "code",
      "execution_count": 49,
      "metadata": {},
      "outputs": [],
      "source": [
        "rec1=np.expand_dims(rec1, axis=0)\n",
        "rec2=np.expand_dims(rec2, axis=0)"
      ]
    },
    {
      "cell_type": "code",
      "execution_count": 50,
      "metadata": {},
      "outputs": [
        {
          "data": {
            "text/plain": [
              "array([[13, 10,  9, 33, 41],\n",
              "       [63, 46, 90, 42, 87],\n",
              "       [39, 76, 13, 29, 72],\n",
              "       [82,  9, 29, 78, 36],\n",
              "       [67, 61, 59, 36, 92],\n",
              "       [77, 83, 98, 95, 89],\n",
              "       [92, 71, 52, 61, 53]])"
            ]
          },
          "execution_count": 50,
          "metadata": {},
          "output_type": "execute_result"
        }
      ],
      "source": [
        "total_marks=np.concatenate((marks,rec1, rec2), axis=0)\n",
        "total_marks"
      ]
    },
    {
      "cell_type": "code",
      "execution_count": 56,
      "metadata": {},
      "outputs": [
        {
          "data": {
            "text/plain": [
              "array([[ 13,  10,   9,  33,  41, 106],\n",
              "       [ 63,  46,  90,  42,  87, 328],\n",
              "       [ 39,  76,  13,  29,  72, 229],\n",
              "       [ 82,   9,  29,  78,  36, 234],\n",
              "       [ 67,  61,  59,  36,  92, 315],\n",
              "       [ 77,  83,  98,  95,  89, 442],\n",
              "       [ 92,  71,  52,  61,  53, 329]])"
            ]
          },
          "execution_count": 56,
          "metadata": {},
          "output_type": "execute_result"
        }
      ],
      "source": [
        "total_sum=np.sum(total_marks, axis=1)\n",
        "total_sum=np.expand_dims(total_sum, axis=1)\n",
        "total_marks=np.concatenate((total_marks,total_sum), axis=1)\n",
        "total_marks"
      ]
    },
    {
      "cell_type": "code",
      "execution_count": 57,
      "metadata": {},
      "outputs": [
        {
          "data": {
            "text/plain": [
              "[array([ 77,  83,  98,  95,  89, 442]),\n",
              " array([ 92,  71,  52,  61,  53, 329]),\n",
              " array([ 63,  46,  90,  42,  87, 328]),\n",
              " array([ 67,  61,  59,  36,  92, 315]),\n",
              " array([ 82,   9,  29,  78,  36, 234]),\n",
              " array([ 39,  76,  13,  29,  72, 229]),\n",
              " array([ 13,  10,   9,  33,  41, 106])]"
            ]
          },
          "execution_count": 57,
          "metadata": {},
          "output_type": "execute_result"
        }
      ],
      "source": [
        "sorted(total_marks, key= lambda x : max(x))[::-1]"
      ]
    },
    {
      "cell_type": "markdown",
      "metadata": {
        "id": "VmOyK_8klRqR"
      },
      "source": [
        "### `Q-3:` Find unique arrays from a 2D array column wise and row wise.\n",
        "```\n",
        "arr = np.array([[1,2,3,3,1,1],\n",
        "                [0,9,1,2,8,8],\n",
        "                [1,2,3,8,8,8],\n",
        "                [1,2,3,3,1,1]])\n",
        "```\n",
        "Expected Result-\n",
        "```\n",
        "Row Wise\n",
        "[[0 9 1 2 8 8]\n",
        " [1 2 3 3 1 1]\n",
        " [1 2 3 8 8 8]]\n",
        "\n",
        "Col Wise\n",
        "[[1 1 2 3 3]\n",
        " [0 8 9 1 2]\n",
        " [1 8 2 3 8]\n",
        " [1 1 2 3 3]]\n",
        "```"
      ]
    },
    {
      "cell_type": "code",
      "execution_count": 59,
      "metadata": {
        "id": "LJl10VQrlU5q"
      },
      "outputs": [
        {
          "data": {
            "text/plain": [
              "array([[0, 9, 1, 2, 8, 8],\n",
              "       [1, 2, 3, 3, 1, 1],\n",
              "       [1, 2, 3, 8, 8, 8]])"
            ]
          },
          "metadata": {},
          "output_type": "display_data"
        },
        {
          "data": {
            "text/plain": [
              "array([[1, 1, 2, 3, 3],\n",
              "       [0, 8, 9, 1, 2],\n",
              "       [1, 8, 2, 3, 8],\n",
              "       [1, 1, 2, 3, 3]])"
            ]
          },
          "metadata": {},
          "output_type": "display_data"
        }
      ],
      "source": [
        "q3arr = np.array([[1,2,3,3,1,1],\n",
        "                [0,9,1,2,8,8],\n",
        "                [1,2,3,8,8,8],\n",
        "                [1,2,3,3,1,1]])\n",
        "\n",
        "display(np.unique(q3arr, axis=0))\n",
        "display(np.unique(q3arr, axis=1))"
      ]
    },
    {
      "cell_type": "markdown",
      "metadata": {
        "id": "RaXwVkywlWY2"
      },
      "source": [
        "### `Q-4:` Flip given 2-D array along both axes at the same time."
      ]
    },
    {
      "cell_type": "code",
      "execution_count": 60,
      "metadata": {
        "id": "mN7-4G8Kleeq"
      },
      "outputs": [
        {
          "data": {
            "text/plain": [
              "array([[1, 1, 3, 3, 2, 1],\n",
              "       [8, 8, 8, 3, 2, 1],\n",
              "       [8, 8, 2, 1, 9, 0],\n",
              "       [1, 1, 3, 3, 2, 1]])"
            ]
          },
          "execution_count": 60,
          "metadata": {},
          "output_type": "execute_result"
        }
      ],
      "source": [
        "q4arr = np.array([[1,2,3,3,1,1],\n",
        "                [0,9,1,2,8,8],\n",
        "                [1,2,3,8,8,8],\n",
        "                [1,2,3,3,1,1]])\n",
        "np.flip(q4arr, axis=[0,1])"
      ]
    },
    {
      "cell_type": "markdown",
      "metadata": {
        "id": "X0S7BUNTlfoq"
      },
      "source": [
        "### `Q-5:` Get row numbers of NumPy array having element larger than X.\n",
        "```\n",
        "arr = [[1,2,3,4,5],\n",
        "      [10,-3,30,4,5],\n",
        "      [3,2,5,-4,5],\n",
        "      [9,7,3,6,5]]\n",
        "\n",
        "X = 6\n",
        "```"
      ]
    },
    {
      "cell_type": "code",
      "execution_count": 66,
      "metadata": {
        "id": "bi8jRmWhlkBU"
      },
      "outputs": [
        {
          "data": {
            "text/plain": [
              "array([1, 3])"
            ]
          },
          "execution_count": 66,
          "metadata": {},
          "output_type": "execute_result"
        }
      ],
      "source": [
        "arr = np.array(\n",
        "     [[1,2,3,4,5],\n",
        "      [10,-3,30,4,5],\n",
        "      [3,2,5,-4,5],\n",
        "      [9,7,3,6,5]])\n",
        "\n",
        "X = 6\n",
        "mask=arr>X\n",
        "np.where(np.any(mask, axis=1))[0]"
      ]
    },
    {
      "cell_type": "markdown",
      "metadata": {
        "id": "DSCQMo4mlnDG"
      },
      "source": [
        "### `Q-6:` How to convert an array of arrays into a flat 1d array?\n"
      ]
    },
    {
      "cell_type": "code",
      "execution_count": 68,
      "metadata": {
        "id": "QZhSkUT2lsJW"
      },
      "outputs": [],
      "source": [
        "# These arrays are given.\n",
        "arr1 = np.arange(3)\n",
        "arr2 = np.arange(3,7)\n",
        "arr3 = np.arange(7,10)"
      ]
    },
    {
      "cell_type": "code",
      "execution_count": 69,
      "metadata": {
        "id": "f42OXNrFls0I"
      },
      "outputs": [
        {
          "data": {
            "text/plain": [
              "array([0, 1, 2, 3, 4, 5, 6, 7, 8, 9])"
            ]
          },
          "execution_count": 69,
          "metadata": {},
          "output_type": "execute_result"
        }
      ],
      "source": [
        "np.concatenate([arr1,arr2,arr3])"
      ]
    },
    {
      "cell_type": "markdown",
      "metadata": {
        "id": "A1J4oOVCluqO"
      },
      "source": [
        "### `Q-7:` You are given a array. You have to find the minimum and maximum array element and remove that from the array.\n",
        "\n",
        "```python\n",
        "import numpy as np\n",
        "\n",
        "np.random.seed(400)\n",
        "arr = np.random.randint(100, 1000, 200).reshape((1, 200))\n",
        "```"
      ]
    },
    {
      "cell_type": "code",
      "execution_count": 76,
      "metadata": {
        "id": "c6kmgtUJlybZ"
      },
      "outputs": [
        {
          "data": {
            "text/plain": [
              "array([418, 240, 507, 362, 345, 236, 719, 291, 298, 639, 458, 387, 262,\n",
              "       613, 267, 882, 181, 425, 790, 635, 889, 818, 872, 967, 277, 470,\n",
              "       336, 920, 917, 295, 557, 830, 506, 385, 353, 975, 592, 997, 137,\n",
              "       340, 222, 215, 472, 459, 617, 649, 935, 956, 914, 932, 645, 952,\n",
              "       921, 490, 527, 972, 278, 307, 840, 958, 246, 449, 251, 957, 103,\n",
              "       920, 824, 356, 825, 173, 323, 372, 960, 710, 464, 244, 782, 763,\n",
              "       635, 436, 774, 171, 469, 178, 458, 624, 211, 771, 270, 308, 231,\n",
              "       952, 514, 699, 702, 433, 900, 373, 318, 265, 503, 320, 230, 324,\n",
              "       922, 967, 620, 743, 527, 117, 566, 804, 123, 946, 587, 227, 853,\n",
              "       757, 944, 328, 855, 930, 325, 729, 426, 514, 296, 879, 575, 936,\n",
              "       705, 209, 191, 743, 510, 513, 628, 559, 658, 528, 395, 525, 922,\n",
              "       136, 496, 225, 895, 975, 263, 908, 420, 711, 800, 976, 786, 235,\n",
              "       930, 859, 618, 226, 695, 460, 218, 483, 490, 803, 621, 453, 193,\n",
              "       607, 677, 637, 728, 724, 534, 748, 291, 194, 761, 875, 687, 569,\n",
              "       228, 482, 781, 554, 654, 739, 885, 197, 266, 228, 892, 207, 883,\n",
              "       588])"
            ]
          },
          "execution_count": 76,
          "metadata": {},
          "output_type": "execute_result"
        }
      ],
      "source": [
        "import numpy as np\n",
        "\n",
        "np.random.seed(400)\n",
        "arr = np.random.randint(100, 1000, 200).reshape((1, 200))\n",
        "max_index=np.where(arr==arr.max())\n",
        "min_index=np.where(arr==arr.min())\n",
        "\n",
        "arr=np.delete(arr, max_index)\n",
        "arr=np.delete(arr, min_index)\n",
        "arr"
      ]
    },
    {
      "cell_type": "markdown",
      "metadata": {
        "id": "0dHN1sdnl0Jy"
      },
      "source": [
        "### `Q-8:` You are given an arrays. You have to limit this array's elements between 100 to 200. $arr ∈ [100, 700]$. So replace those values accordingly with the minimum and maximum value. Then sort the array and perform the cumulative sum of that array."
      ]
    },
    {
      "cell_type": "code",
      "execution_count": 83,
      "metadata": {
        "id": "a3YF_E-Hlza7"
      },
      "outputs": [
        {
          "data": {
            "text/plain": [
              "array([340, 649, 456, 632, 544, 413, 131, 544, 232, 482, 410, 532, 471,\n",
              "       405, 100, 674, 218, 153, 146, 261])"
            ]
          },
          "execution_count": 83,
          "metadata": {},
          "output_type": "execute_result"
        }
      ],
      "source": [
        "q8arr=np.random.randint(100, 700, size=(20))\n",
        "q8arr"
      ]
    },
    {
      "cell_type": "code",
      "execution_count": 88,
      "metadata": {},
      "outputs": [],
      "source": [
        "q8arr[np.where(q8arr>200)]=200"
      ]
    },
    {
      "cell_type": "code",
      "execution_count": 89,
      "metadata": {},
      "outputs": [
        {
          "data": {
            "text/plain": [
              "array([200, 200, 200, 200, 200, 200, 131, 200, 200, 200, 200, 200, 200,\n",
              "       200, 100, 200, 200, 153, 146, 200])"
            ]
          },
          "execution_count": 89,
          "metadata": {},
          "output_type": "execute_result"
        }
      ],
      "source": [
        "q8arr"
      ]
    },
    {
      "cell_type": "code",
      "execution_count": 90,
      "metadata": {},
      "outputs": [
        {
          "data": {
            "text/plain": [
              "array([100, 131, 146, 153, 200, 200, 200, 200, 200, 200, 200, 200, 200,\n",
              "       200, 200, 200, 200, 200, 200, 200])"
            ]
          },
          "execution_count": 90,
          "metadata": {},
          "output_type": "execute_result"
        }
      ],
      "source": [
        "np.sort(q8arr)"
      ]
    },
    {
      "cell_type": "code",
      "execution_count": 91,
      "metadata": {},
      "outputs": [
        {
          "data": {
            "text/plain": [
              "array([ 200,  400,  600,  800, 1000, 1200, 1331, 1531, 1731, 1931, 2131,\n",
              "       2331, 2531, 2731, 2831, 3031, 3231, 3384, 3530, 3730])"
            ]
          },
          "execution_count": 91,
          "metadata": {},
          "output_type": "execute_result"
        }
      ],
      "source": [
        "np.cumsum(q8arr)"
      ]
    },
    {
      "cell_type": "markdown",
      "metadata": {
        "id": "cXj90Susl4-I"
      },
      "source": [
        "### `Q-9:` You are given a array ($arr ∈ [0, 1]$). First you have round off the elements upto 3 decimal places and compare that\n",
        "- 0th percentile == minimum value of the array\n",
        "- 100th percentile == maximum value of the array\n",
        "- also find the difference betwen 51th percenile and 50th percentile values"
      ]
    },
    {
      "cell_type": "code",
      "execution_count": 94,
      "metadata": {
        "id": "SgBEHodgl7Lo"
      },
      "outputs": [
        {
          "data": {
            "text/plain": [
              "array([0.288, 0.582, 0.707, 0.964, 0.855, 0.495, 0.397, 0.201, 0.607,\n",
              "       0.879])"
            ]
          },
          "execution_count": 94,
          "metadata": {},
          "output_type": "execute_result"
        }
      ],
      "source": [
        "q9arr=np.random.random(10)\n",
        "q9arr=np.around(q9arr, decimals=3)\n",
        "q9arr"
      ]
    },
    {
      "cell_type": "code",
      "execution_count": 96,
      "metadata": {},
      "outputs": [
        {
          "data": {
            "text/plain": [
              "True"
            ]
          },
          "execution_count": 96,
          "metadata": {},
          "output_type": "execute_result"
        }
      ],
      "source": [
        "np.percentile(q9arr,0)==q9arr.min()"
      ]
    },
    {
      "cell_type": "code",
      "execution_count": 97,
      "metadata": {},
      "outputs": [
        {
          "data": {
            "text/plain": [
              "True"
            ]
          },
          "execution_count": 97,
          "metadata": {},
          "output_type": "execute_result"
        }
      ],
      "source": [
        "np.percentile(q9arr,100)==q9arr.max()"
      ]
    },
    {
      "cell_type": "code",
      "execution_count": 98,
      "metadata": {},
      "outputs": [
        {
          "data": {
            "text/plain": [
              "0.0022499999999999742"
            ]
          },
          "execution_count": 98,
          "metadata": {},
          "output_type": "execute_result"
        }
      ],
      "source": [
        "np.percentile(q9arr, 51)-np.percentile(q9arr, 50)"
      ]
    }
  ],
  "metadata": {
    "colab": {
      "provenance": []
    },
    "kernelspec": {
      "display_name": "Python 3",
      "name": "python3"
    },
    "language_info": {
      "codemirror_mode": {
        "name": "ipython",
        "version": 3
      },
      "file_extension": ".py",
      "mimetype": "text/x-python",
      "name": "python",
      "nbconvert_exporter": "python",
      "pygments_lexer": "ipython3",
      "version": "3.10.12"
    }
  },
  "nbformat": 4,
  "nbformat_minor": 0
}
